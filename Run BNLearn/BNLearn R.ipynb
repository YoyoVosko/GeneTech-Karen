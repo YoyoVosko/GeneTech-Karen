{
 "cells": [
  {
   "cell_type": "code",
   "execution_count": 9,
   "metadata": {},
   "outputs": [],
   "source": [
    "# Clear up space before running\n",
    "rm(list=ls())"
   ]
  },
  {
   "cell_type": "code",
   "execution_count": 10,
   "metadata": {},
   "outputs": [],
   "source": [
    "# import libraries\n",
    "library(bnlearn)\n",
    "library(Rgraphviz)\n",
    "library(stringr)"
   ]
  },
  {
   "cell_type": "code",
   "execution_count": 26,
   "metadata": {},
   "outputs": [],
   "source": [
    "# This assumes BNLearn R is in a folder alongside and Inputs folder (containing the files to be run in bnLearn) \n",
    "#      and an Outputs folder (containg the bnLearn results)\n",
    "\n",
    "# specialName is an identifer for all the files you want to run (if you want ot use all files in Inputs/, specialName=''),\n",
    "#     this should not be the cnacer area name\n",
    "# version is the named data version used  (in my case either 'v7' or 'v8')\n",
    "# inputLst is the files you want to run bnLearn on\n",
    "# doneLst is which of those files have already been acomplished\n",
    "#      to rerun everything set doneLst = c()\n",
    "# thres is the strength threshold needed for a connection to be inlcuded in the final output\n",
    "# scoreMethod is the socring method to be used: should be either 'bge' or 'bde'\n",
    "# graph tells if bnLearn should show a graph of the result as it gets made\n",
    "# outDir is the directory in which the output csv should be saved in\n",
    "specialName='Kobe Genes'\n",
    "version='v7'\n",
    "findFiles=paste('*',specialName,'*',version,'*',sep='')\n",
    "inputLst = Sys.glob(file.path('Inputs',findFiles))\n",
    "doneLst = Sys.glob(file.path('Outputs',findFiles))\n",
    "thres=0.5\n",
    "scoreMethod='bge'\n",
    "graph=FALSE\n",
    "outDir = 'Outputs/'"
   ]
  },
  {
   "cell_type": "code",
   "execution_count": null,
   "metadata": {},
   "outputs": [],
   "source": [
    "inputLst"
   ]
  },
  {
   "cell_type": "code",
   "execution_count": 27,
   "metadata": {},
   "outputs": [],
   "source": [
    "# runLst is a list of which files that are in the inputLst haven't already been done, and need to be run.\n",
    "# just inputLst - doneLst\n",
    "runLst = c()\n",
    "for (elem in inputLst){\n",
    "    str = strsplit(elem,'/')\n",
    "    elem2 = str[[1]][2] \n",
    "    if(scoreMethod=='bde'){\n",
    "        elem2 = paste('Outputs/',elem2,', MN.csv',sep='')\n",
    "    }else{\n",
    "        elem2 = paste('Outputs/',elem2,', G.csv',sep='')\n",
    "    }\n",
    "    elem2 = str_replace(elem2,'Pure ','')\n",
    "    if(!elem2 %in% doneLst){\n",
    "        runLst = c(runLst,elem)\n",
    "    }\n",
    "}"
   ]
  },
  {
   "cell_type": "code",
   "execution_count": 28,
   "metadata": {},
   "outputs": [
    {
     "name": "stdout",
     "output_type": "stream",
     "text": [
      "[1] 1\n",
      "[1] 1\n",
      "[1] 1\n"
     ]
    }
   ],
   "source": [
    "print(length(inputLst))\n",
    "print(length(doneLst))\n",
    "print(length(runLst))"
   ]
  },
  {
   "cell_type": "code",
   "execution_count": null,
   "metadata": {},
   "outputs": [],
   "source": [
    "# Turn off warnings \n",
    "oldw <- getOption(\"warn\")\n",
    "options(warn = -1)\n",
    "\n",
    "for (input in runLst){\n",
    "    # read in input file\n",
    "    data = read.csv(input,row.names=1,header=T,sep='\\t')\n",
    "    # discretize the data (only if using bde), 6 for heat, 3 for everything else\n",
    "    if(scoreMethod=='bde'){\n",
    "        LB<-c()\n",
    "        i=1\n",
    "        while(i <= ncol(data)){\n",
    "            if(i==2){\n",
    "               LB<-c(LB,6) \n",
    "            }\n",
    "            else{\n",
    "               LB<-c(LB,3) \n",
    "            }\n",
    "            i=i+1\n",
    "        }\n",
    "        data = discretize(data, method = 'interval', breaks = LB)\n",
    "    }\n",
    "    \n",
    "    # create a blackList for the data, making sure that Purity.Scores will allways be a root\n",
    "    #     and that Heat.Scores will always be a node\n",
    "    # all pairings within the blacklist are not allowd to happen\n",
    "    bL<-c()\n",
    "    lst = c(colnames(data))\n",
    "    for(elem in lst){\n",
    "        if(elem!='Purity.Scores' & elem!='Heat.Scores'){\n",
    "            bL<-c(bL,elem,'Purity.Scores')\n",
    "        }\n",
    "    }\n",
    "    for(elem in lst){\n",
    "        if(elem!='Heat.Scores'){\n",
    "            bL<-c(bL,'Heat.Scores',elem)\n",
    "        }\n",
    "    }\n",
    "    # turn the blacklist into a matrix\n",
    "    bL = matrix(bL, ncol = 2, byrow = TRUE)\n",
    "    # run bnLearn, with 100 R, using 90% of the data, hc algorithm, the blacklist,and the chosen scoring method\n",
    "    # to use the blacklist cpdag needs to be turned off (otherwise blacklist affects both sides of the pairing)\n",
    "    boot = boot.strength(data = data, R = 100, m = trunc(.9 * nrow(data)), algorithm = 'hc',\n",
    "                         algorithm.args = list(score = scoreMethod,blacklist=bL),cpdag = FALSE)\n",
    "    \n",
    "    # Save average of bootstraps for use in graphing (easier for me to create the graphs in python)\n",
    "    findOldName=paste('.*',specialName,sep='')\n",
    "    outName = sub(findOldName,specialName,input)\n",
    "    if(scoreMethod=='bde'){\n",
    "        outName = paste(outName,\", MN\",sep='')\n",
    "    }\n",
    "    else{\n",
    "        outName = paste(outName,\", G\",sep='')\n",
    "    }\n",
    "    write.csv(boot,paste(outDir,outName,'.csv',sep=''))\n",
    "\n",
    "    # If you want R to graph it\n",
    "    if(graph){\n",
    "        avg.boot = averaged.network(boot, threshold = thres)\n",
    "        gr = graphviz.plot(avg.boot, shape = \"ellipse\",main=outName)\n",
    "        renderGraph(gr)\n",
    "    }\n",
    "}\n",
    "# turn warnings back on\n",
    "options(warn = oldw)"
   ]
  },
  {
   "cell_type": "code",
   "execution_count": null,
   "metadata": {},
   "outputs": [],
   "source": []
  }
 ],
 "metadata": {
  "kernelspec": {
   "display_name": "R",
   "language": "R",
   "name": "ir"
  },
  "language_info": {
   "codemirror_mode": "r",
   "file_extension": ".r",
   "mimetype": "text/x-r-source",
   "name": "R",
   "pygments_lexer": "r",
   "version": "3.6.1"
  }
 },
 "nbformat": 4,
 "nbformat_minor": 4
}
